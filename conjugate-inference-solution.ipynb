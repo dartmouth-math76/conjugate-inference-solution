{
 "cells": [
  {
   "cell_type": "markdown",
   "metadata": {},
   "source": [
    "# Problem 3: NYC Bicycling Trends\n",
    "On average, are more bikes likely to cross the Brooklyn Bridge in May or September?  Answering that question is the the goal of this problem.   New York City shares a lot of their data on the [OpenData](https://opendata.cityofnewyork.us/) website.  Here, we will analyze data from 2017 that counts the number of bikers crossing NYC bridges each day from April through October.  \n",
    "\n",
    "The data collected by NYC counts the number of bikers crossing bridges each day.  To model this in our likelihood function, we will employ the Poisson distribution, which is commonly used to describes counts per day or counts per area.  The Poisson distribution describes the probability mass function for a discrete random variable that has a sample space which includes all positive integers.   Let $B$ be a Poisson random variable representing the number of bicycles crossing the Brooklyn Bridge.   The Poisson mass function $m(k)$ takes the form\n",
    "\n",
    "$$\n",
    "m(b|\\lambda) = \\mathbb{P}[B=b] = \\frac{\\lambda^b e^{-\\lambda}}{b!}\n",
    "$$\n",
    "\n",
    "The Poisson distribution has a single parameter $\\lambda$ that represents the average rate (e.g., bicyclists per day) of the random variable $B$.  Interestingly, both the mean and variance of $B$ are equal to $\\lambda$.  Our goal here is to define a posterior density $f(\\lambda | b_{May})$ using observations of the bicyclist count in May,  i.e., $b_{May}$, and another posterior density $f(\\lambda | b_{Sep})$ using observations of the bicyclist count in September.  Comparing the two posteriors will allow us to compute the probability that more bikers will cross Brooklyn Bridge in May than September.\n",
    "\n",
    "We will assume that the prior density $f(\\lambda)$ is a Gamma density.  The Gamma distribution is a flexible family of distributions useful for describing positive real-valued variables (like $\\lambda$).  The probability density function of a Gamma random variable is given by\n",
    "\n",
    "$$\n",
    "f(\\lambda) = \\text{Gamma}(\\lambda; k, \\theta) = \\frac{1}{\\Gamma(k)\\theta^k} \\lambda^{k-1} e^{-\\frac{\\lambda}{\\theta}},\n",
    "$$\n",
    "\n",
    "where $k$ and $\\theta$ are parameters describing the shape of the density.  \n",
    "\n",
    "\n",
    "### Part 3:\n",
    "Read through the code below to and use the result of part 2 to update the `PosteriorParameters` function.  This is labeled as `TODO` in the code.\n",
    "\n",
    "### Part 4:\n",
    "Using your code from Part 3, run the code below that computes the posterior parameters $k^\\ast_{May},\\theta^\\ast_{May}$ and $k^\\ast_{Sep},\\theta^\\ast_{Sep}$ using data from May and September, respectively.  Plots of the posterior densities will also be generated. \n",
    "\n",
    "Once you've found the posterior parameters, compute the probability that a random variable $\\lambda_{May}$ with density $\\text{Gamma}(\\lambda; k^\\ast_{May}, \\theta^\\ast_{May})$ is greater than a random variable $\\lambda_{Sep}$ with density $\\text{Gamma}(\\lambda; k^\\ast_{Sep}, \\theta^\\ast_{Sep})$.  \n",
    "\n",
    "*Hint:*  For two independent Gamma random variables $X$ and $Y$ with the same scaling parameter $\\theta$ but different parameters $k_x$ and $k_y$, the random variable $Z=X/(X+Y)$ is distributed according to a [Beta distribution](https://en.wikipedia.org/wiki/Beta_distribution) with parameters $k_x$ and $k_y$.  More precisely,\n",
    "\n",
    "$$\n",
    "\\frac{X}{X+Y} = Z \\sim \\text{Beta}(k_x,k_y)\n",
    "$$\n"
   ]
  },
  {
   "cell_type": "code",
   "execution_count": 1,
   "metadata": {},
   "outputs": [],
   "source": [
    "%matplotlib inline \n",
    "import matplotlib.pyplot as plt\n",
    "\n",
    "import numpy as np\n",
    "\n",
    "import pandas as pd\n",
    "import datetime\n",
    "\n",
    "from scipy.stats import poisson, gamma, beta\n",
    "\n",
    "pd.plotting.register_matplotlib_converters()"
   ]
  },
  {
   "cell_type": "code",
   "execution_count": 2,
   "metadata": {},
   "outputs": [],
   "source": [
    "def ReadData():\n",
    "    \"\"\" This function reads in bicycle data that has been downloaded from NYC OpenData website at \n",
    "        https://data.cityofnewyork.us/Transportation/Bicycle-Counts-for-East-River-Bridges/gua4-p9wg\n",
    "        \n",
    "        The data contains weather variables and the total number of bicyclists crossing various \n",
    "        bridges around New York City.  This function concatenates data for each summer month in 2017\n",
    "        and returns a Pandas DataFrame (https://pandas.pydata.org/pandas-docs/stable/reference/api/pandas.DataFrame.html)\n",
    "        \n",
    "        RETURNS:\n",
    "            pd.DataFrame: Pandas DataFrame containing the NYC bicycling data from 2017. \n",
    "                          The date is used as the index of the DataFrame.\n",
    "    \"\"\"\n",
    "    \n",
    "    data_folder = 'NYC-bike-data/'\n",
    "    \n",
    "    # Use glob to find all files ending in \".xlsx\" in the data folder.\n",
    "    import glob \n",
    "    data_files = glob.glob(data_folder + '[01]*.xlsx')\n",
    "    \n",
    "    # Loop over the data files, reading each one into a Pandas dataframe with the pd.read_excel function. \n",
    "    all_dfs = []\n",
    "    for file in data_files:\n",
    "        all_dfs.append( pd.read_excel(file, skiprows=5, parse_dates=[0,1],parseheader=5, nrows=30, usecols=range(1,11)) )\n",
    "    \n",
    "    # Combine the dataframes for each month into a single dataframe for all of the 2017 data\n",
    "    df = pd.concat(all_dfs)\n",
    "    \n",
    "    # Set the date to be the index variable\n",
    "    df.set_index('Date', inplace=True)\n",
    "        \n",
    "    # Convert all \"trace\" precips to 1e-3\n",
    "    df.loc[df['Precipitation']=='T'] = 1e-3\n",
    "    \n",
    "    # Change units to observations are in 100s or people\n",
    "    for key in df.keys():\n",
    "        if('Bridge' in key):\n",
    "            df[key] = df[key] / 100\n",
    "    \n",
    "    # Remove any data values that have a zero total count\n",
    "    df = df.loc[df['Total']>0]\n",
    "    \n",
    "    return df \n"
   ]
  },
  {
   "cell_type": "markdown",
   "metadata": {},
   "source": [
    "#### Use the function above to read in the bicycle data."
   ]
  },
  {
   "cell_type": "code",
   "execution_count": 3,
   "metadata": {},
   "outputs": [],
   "source": [
    "df = ReadData()"
   ]
  },
  {
   "cell_type": "markdown",
   "metadata": {},
   "source": [
    "#### Use the pandas \"head\" function to display the first few rows of data"
   ]
  },
  {
   "cell_type": "code",
   "execution_count": 4,
   "metadata": {},
   "outputs": [
    {
     "data": {
      "text/html": [
       "<div>\n",
       "<style scoped>\n",
       "    .dataframe tbody tr th:only-of-type {\n",
       "        vertical-align: middle;\n",
       "    }\n",
       "\n",
       "    .dataframe tbody tr th {\n",
       "        vertical-align: top;\n",
       "    }\n",
       "\n",
       "    .dataframe thead th {\n",
       "        text-align: right;\n",
       "    }\n",
       "</style>\n",
       "<table border=\"1\" class=\"dataframe\">\n",
       "  <thead>\n",
       "    <tr style=\"text-align: right;\">\n",
       "      <th></th>\n",
       "      <th>Day</th>\n",
       "      <th>High Temp (°F)</th>\n",
       "      <th>Low Temp (°F)</th>\n",
       "      <th>Precipitation</th>\n",
       "      <th>Brooklyn Bridge</th>\n",
       "      <th>Manhattan Bridge</th>\n",
       "      <th>Williamsburg Bridge</th>\n",
       "      <th>Queensboro Bridge</th>\n",
       "      <th>Total</th>\n",
       "    </tr>\n",
       "    <tr>\n",
       "      <th>Date</th>\n",
       "      <th></th>\n",
       "      <th></th>\n",
       "      <th></th>\n",
       "      <th></th>\n",
       "      <th></th>\n",
       "      <th></th>\n",
       "      <th></th>\n",
       "      <th></th>\n",
       "      <th></th>\n",
       "    </tr>\n",
       "  </thead>\n",
       "  <tbody>\n",
       "    <tr>\n",
       "      <th>2017-07-01</th>\n",
       "      <td>2017-07-01 00:00:00</td>\n",
       "      <td>84.9</td>\n",
       "      <td>72.0</td>\n",
       "      <td>0.23</td>\n",
       "      <td>18.48</td>\n",
       "      <td>29.58</td>\n",
       "      <td>38.45</td>\n",
       "      <td>32.16</td>\n",
       "      <td>11867.0</td>\n",
       "    </tr>\n",
       "    <tr>\n",
       "      <th>2017-07-02</th>\n",
       "      <td>2017-07-02 00:00:00</td>\n",
       "      <td>87.1</td>\n",
       "      <td>73.0</td>\n",
       "      <td>0</td>\n",
       "      <td>24.67</td>\n",
       "      <td>37.76</td>\n",
       "      <td>41.73</td>\n",
       "      <td>35.79</td>\n",
       "      <td>13995.0</td>\n",
       "    </tr>\n",
       "    <tr>\n",
       "      <th>2017-07-03</th>\n",
       "      <td>2017-07-03 00:00:00</td>\n",
       "      <td>87.1</td>\n",
       "      <td>71.1</td>\n",
       "      <td>0.45</td>\n",
       "      <td>27.14</td>\n",
       "      <td>41.99</td>\n",
       "      <td>49.24</td>\n",
       "      <td>42.30</td>\n",
       "      <td>16067.0</td>\n",
       "    </tr>\n",
       "    <tr>\n",
       "      <th>2017-07-04</th>\n",
       "      <td>2017-07-04 00:00:00</td>\n",
       "      <td>82.9</td>\n",
       "      <td>70.0</td>\n",
       "      <td>0</td>\n",
       "      <td>22.96</td>\n",
       "      <td>40.84</td>\n",
       "      <td>36.84</td>\n",
       "      <td>38.61</td>\n",
       "      <td>13925.0</td>\n",
       "    </tr>\n",
       "    <tr>\n",
       "      <th>2017-07-05</th>\n",
       "      <td>2017-07-05 00:00:00</td>\n",
       "      <td>84.9</td>\n",
       "      <td>71.1</td>\n",
       "      <td>0</td>\n",
       "      <td>31.70</td>\n",
       "      <td>67.70</td>\n",
       "      <td>73.08</td>\n",
       "      <td>58.62</td>\n",
       "      <td>23110.0</td>\n",
       "    </tr>\n",
       "  </tbody>\n",
       "</table>\n",
       "</div>"
      ],
      "text/plain": [
       "                            Day  High Temp (°F)  Low Temp (°F) Precipitation  \\\n",
       "Date                                                                           \n",
       "2017-07-01  2017-07-01 00:00:00            84.9           72.0          0.23   \n",
       "2017-07-02  2017-07-02 00:00:00            87.1           73.0             0   \n",
       "2017-07-03  2017-07-03 00:00:00            87.1           71.1          0.45   \n",
       "2017-07-04  2017-07-04 00:00:00            82.9           70.0             0   \n",
       "2017-07-05  2017-07-05 00:00:00            84.9           71.1             0   \n",
       "\n",
       "            Brooklyn Bridge  Manhattan Bridge  Williamsburg Bridge  \\\n",
       "Date                                                                 \n",
       "2017-07-01            18.48             29.58                38.45   \n",
       "2017-07-02            24.67             37.76                41.73   \n",
       "2017-07-03            27.14             41.99                49.24   \n",
       "2017-07-04            22.96             40.84                36.84   \n",
       "2017-07-05            31.70             67.70                73.08   \n",
       "\n",
       "            Queensboro Bridge    Total  \n",
       "Date                                    \n",
       "2017-07-01              32.16  11867.0  \n",
       "2017-07-02              35.79  13995.0  \n",
       "2017-07-03              42.30  16067.0  \n",
       "2017-07-04              38.61  13925.0  \n",
       "2017-07-05              58.62  23110.0  "
      ]
     },
     "execution_count": 4,
     "metadata": {},
     "output_type": "execute_result"
    }
   ],
   "source": [
    "df.head()"
   ]
  },
  {
   "cell_type": "markdown",
   "metadata": {},
   "source": [
    "#### Define the times under consideration (e.g., May and September)\n",
    "We will use these dates later on to extract the data for May and September from the larger dataset that has entries for April to October.."
   ]
  },
  {
   "cell_type": "code",
   "execution_count": 5,
   "metadata": {},
   "outputs": [],
   "source": [
    "may_start = np.datetime64('2017-05-01')\n",
    "may_end = np.datetime64('2017-05-31')\n",
    "\n",
    "sep_start = np.datetime64('2017-09-01')\n",
    "sep_end = np.datetime64('2017-09-30')"
   ]
  },
  {
   "cell_type": "markdown",
   "metadata": {},
   "source": [
    "#### Plot the Brooklyn Bridge data\n",
    "To extract a column of data from a Pandas DataFrame, you use the name of the column in square brackets.  For example `df['Brooklyn Bridge']` will extract the \"Brooklyn Bridge\" column of the dataframe."
   ]
  },
  {
   "cell_type": "code",
   "execution_count": 6,
   "metadata": {},
   "outputs": [
    {
     "data": {
      "image/png": "[encoded data removed]",
      "text/plain": [
       "<Figure size 720x432 with 1 Axes>"
      ]
     },
     "metadata": {
      "needs_background": "light"
     },
     "output_type": "display_data"
    }
   ],
   "source": [
    "plt.figure(figsize=(10,6))\n",
    "plt.plot(df['Brooklyn Bridge'],'ok', label='Daily Observations')\n",
    "\n",
    "ymin, ymax = plt.ylim() # Returns the minimum and maximum y-values currently shown in the plot\n",
    "\n",
    "# Plot shaded regions denoting the months of interest\n",
    "plt.fill_between([may_start, may_end], [ymin,ymin], [ymax,ymax], alpha=0.2, label='May')\n",
    "plt.fill_between([sep_start, sep_end], [ymin,ymin], [ymax,ymax], alpha=0.2, label='July')\n",
    "plt.ylim(ymin,ymax)\n",
    "\n",
    "plt.xlabel('Date', fontsize=16)\n",
    "plt.ylabel('Brooklyn Bridge Bicycle Crossings (100s)', fontsize=16)\n",
    "plt.xticks(fontsize=14) # Increases the size of the xtick labels\n",
    "plt.yticks(fontsize=14) # Increases the size of the ytick labels\n",
    "plt.show()"
   ]
  },
  {
   "cell_type": "markdown",
   "metadata": {},
   "source": [
    "#### Define the prior density"
   ]
  },
  {
   "cell_type": "code",
   "execution_count": 7,
   "metadata": {},
   "outputs": [],
   "source": [
    "def PriorParams():\n",
    "    \"\"\"\n",
    "    Returns the prior (k,\\theta) parameters of the Gamma density on lambda.\n",
    "    \n",
    "    RETURNS:\n",
    "        float: The parameter k in the Gamma density \n",
    "        float: The parameter \\theta in the Gamma density\n",
    "        \n",
    "    \"\"\"\n",
    "    k = 2\n",
    "    theta = 20\n",
    "    \n",
    "    return k, theta"
   ]
  },
  {
   "cell_type": "code",
   "execution_count": 8,
   "metadata": {},
   "outputs": [],
   "source": [
    "k, theta = PriorParams()"
   ]
  },
  {
   "cell_type": "markdown",
   "metadata": {},
   "source": [
    "#### Plot the prior density"
   ]
  },
  {
   "cell_type": "code",
   "execution_count": 9,
   "metadata": {},
   "outputs": [
    {
     "data": {
      "image/png": "[encoded data removed]",
      "text/plain": [
       "<Figure size 720x432 with 1 Axes>"
      ]
     },
     "metadata": {
      "needs_background": "light"
     },
     "output_type": "display_data"
    }
   ],
   "source": [
    "plt.figure(figsize=(10,6))\n",
    "\n",
    "xs = np.linspace(1,90,200)\n",
    "prior_pdf = gamma.pdf(xs, k, scale=theta)\n",
    "\n",
    "plt.plot(xs,prior_pdf,linewidth=3)\n",
    "\n",
    "plt.xticks(fontsize=14)\n",
    "plt.yticks(fontsize=14)\n",
    "plt.xlabel('$\\lambda$ Expected bicycle crossings per day (100s)',fontsize=16)\n",
    "plt.ylabel('$f(\\lambda)$',fontsize=16)\n",
    "plt.title('Prior Density', fontsize=16)\n",
    "plt.show()"
   ]
  },
  {
   "cell_type": "code",
   "execution_count": 10,
   "metadata": {},
   "outputs": [],
   "source": [
    "def PosteriorParameters(observed_values, prior_k, prior_theta):\n",
    "    \"\"\"\n",
    "        TODO: Update this function to calculate the posterior Gamma parameters\n",
    "        \n",
    "        ARGS: \n",
    "            observed_values (np.array): 1d numpy array containing observations of the daily bicycle crossings.  \n",
    "                                        Each component of this vector corresponds to a daily observation.\n",
    "            prior_k (float): The value of the Gamma parameter $k$ used in the prior density.\n",
    "            prior_theta (float): The value of the Gamma parameter $\\theta$ used in the prior density.\n",
    "            \n",
    "        RETURNS:\n",
    "            float: The value of the Gamma parameter $k^\\ast$ defining the posterior density.\n",
    "            float: The value of the Gamma parameter $\\theta^\\ast$ defining the posterior density.\n",
    "        \n",
    "    \"\"\"\n",
    "    \n",
    "    post_k = prior_k + np.sum(observed_values)\n",
    "    post_theta = prior_theta/(observed_values.shape[0] * prior_theta + 1.0)\n",
    "    \n",
    "    \n",
    "    return post_k, post_theta\n",
    "    \n",
    "    "
   ]
  },
  {
   "cell_type": "markdown",
   "metadata": {},
   "source": [
    "#### Extract the bicycle crossings for May and Sep."
   ]
  },
  {
   "cell_type": "code",
   "execution_count": 11,
   "metadata": {},
   "outputs": [],
   "source": [
    "may_values = df.loc[ (df.index>=may_start) & (df.index<=may_end) ]['Brooklyn Bridge'].to_numpy()\n",
    "sep_values = df.loc[ (df.index>=sep_start) & (df.index<=sep_end) ]['Brooklyn Bridge'].to_numpy()"
   ]
  },
  {
   "cell_type": "markdown",
   "metadata": {},
   "source": [
    "#### Compute the posterior parameters using the May and September data"
   ]
  },
  {
   "cell_type": "code",
   "execution_count": 12,
   "metadata": {},
   "outputs": [],
   "source": [
    "may_k, may_theta = PosteriorParameters(may_values, k,theta)\n",
    "sep_k, sep_theta = PosteriorParameters(sep_values, k,theta)"
   ]
  },
  {
   "cell_type": "markdown",
   "metadata": {},
   "source": [
    "#### Evaluate and plot the posterior probability densities"
   ]
  },
  {
   "cell_type": "code",
   "execution_count": 13,
   "metadata": {},
   "outputs": [
    {
     "data": {
      "image/png": "[encoded data removed]",
      "text/plain": [
       "<Figure size 720x432 with 1 Axes>"
      ]
     },
     "metadata": {
      "needs_background": "light"
     },
     "output_type": "display_data"
    }
   ],
   "source": [
    "\n",
    "may_post = gamma.pdf(xs, may_k, scale=may_theta)\n",
    "sep_post = gamma.pdf(xs,sep_k,scale=sep_theta)\n",
    "\n",
    "plt.figure(figsize=(10,6))\n",
    "\n",
    "plt.plot(xs,prior_pdf,linewidth=3,label='Prior')\n",
    "plt.plot(xs,may_post,linewidth=3,label='May Posterior')\n",
    "plt.plot(xs,sep_post,linewidth=3,label='September Posterior')\n",
    "\n",
    "\n",
    "plt.legend(fontsize=14)\n",
    "plt.xticks(fontsize=14)\n",
    "plt.yticks(fontsize=14)\n",
    "plt.xlabel('$\\lambda$, Expected bicycle crossings per day (100s)',fontsize=16)\n",
    "plt.ylabel('Density',fontsize=16)\n",
    "plt.show()\n"
   ]
  },
  {
   "cell_type": "markdown",
   "metadata": {},
   "source": [
    "#### PART 4: Compute the probability that $\\lambda_{May}>\\lambda_{Sep}$\n",
    "Hint: Use the [scipy.stats.beta](https://docs.scipy.org/doc/scipy/reference/generated/scipy.stats.beta.html) class and it's CDF function."
   ]
  },
  {
   "cell_type": "code",
   "execution_count": 14,
   "metadata": {},
   "outputs": [
    {
     "name": "stdout",
     "output_type": "stream",
     "text": [
      "Prob lam_{May} > lam_{Sep} = 0.0046\n",
      "Prob lam_{Sep} > lam_{May} = 0.9954\n"
     ]
    }
   ],
   "source": [
    "prob = beta.cdf(0.5, sep_k, may_k)\n",
    "print('Prob lam_{May} > lam_{Sep} = %0.4f'%prob)\n",
    "print('Prob lam_{Sep} > lam_{May} = %0.4f'%(1.0-prob))\n"
   ]
  },
  {
   "cell_type": "markdown",
   "metadata": {},
   "source": [
    "# Challenge Question\n",
    "(this question is ungraded)\n",
    "\n",
    "1. Read [this blog post](http://varianceexplained.org/r/empirical_bayes_baseball/) about Empirical Bayesian techniques.  You can ignore the code, just focus on the concepts.  \n",
    "1. Describe how you could apply Empirical Bayesian ideas to estimate the prior density our bicycling setting.   \n",
    "1. Implement a function that estimates our Gamma prior using Empirical Bayesian concepts.   (Hint: Try matching the mean and variance of a Gamma distribution to the data.)"
   ]
  },
  {
   "cell_type": "code",
   "execution_count": null,
   "metadata": {},
   "outputs": [],
   "source": []
  }
 ],
 "metadata": {
  "kernelspec": {
   "display_name": "Python 3",
   "language": "python",
   "name": "python3"
  },
  "language_info": {
   "codemirror_mode": {
    "name": "ipython",
    "version": 3
   },
   "file_extension": ".py",
   "mimetype": "text/x-python",
   "name": "python",
   "nbconvert_exporter": "python",
   "pygments_lexer": "ipython3",
   "version": "3.7.3"
  }
 },
 "nbformat": 4,
 "nbformat_minor": 4
}
